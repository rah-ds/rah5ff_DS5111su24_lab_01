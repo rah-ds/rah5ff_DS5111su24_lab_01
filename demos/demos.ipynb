{
 "cells": [
  {
   "cell_type": "markdown",
   "id": "39306fed-86e9-47a1-bd8c-b0524ec35ff1",
   "metadata": {},
   "source": [
    "## Objective\n",
    "***\n",
    "This notebook will show some of the functionality of the tokenizer library."
   ]
  },
  {
   "cell_type": "code",
   "execution_count": 2,
   "id": "2455be9c-82d3-468e-98d3-85790d7c95e6",
   "metadata": {},
   "outputs": [],
   "source": [
    "import os\n",
    "from pathlib import Path\n",
    "import sys                                                                   \n",
    "                                                                                                                                        \n",
    "#sys.path.insert(0, os.path.abspath('../src/')) #replace with pip library                                                                                                               \n",
    "from raven_tokenizer import clean_text, tokenizer, count_words               "
   ]
  },
  {
   "cell_type": "code",
   "execution_count": 22,
   "id": "c42824e9-6900-4a91-9c98-077dc557c5e8",
   "metadata": {},
   "outputs": [],
   "source": [
    "## count the words in the raven\n",
    "# make get_raven.txt\n",
    "\n",
    "!head ../works/raven.txt"
   ]
  },
  {
   "cell_type": "code",
   "execution_count": 23,
   "id": "7697df74-0b3f-4d75-986e-914685068ffd",
   "metadata": {},
   "outputs": [],
   "source": [
    "# remove newline and (Byte order Mark BOM) -- not valid words\n",
    "txt = Path(\"../works/raven.txt\").read_text().replace('\\n', '').replace('\\ufeff', '')"
   ]
  },
  {
   "cell_type": "markdown",
   "id": "7628adb2-14d0-4dbe-9378-87400056a03f",
   "metadata": {},
   "source": [
    "### Clean Text\n",
    "* lowers text\n",
    "* takes out punctuation"
   ]
  },
  {
   "cell_type": "code",
   "execution_count": 28,
   "id": "3a3c2ea0-8d27-48e5-9463-a224895ce91a",
   "metadata": {},
   "outputs": [
    {
     "data": {
      "text/plain": [
       "'the project gutenberg ebook of the raven    this ebook is for the use of anyone anywhere in the united states andmost other parts of the world at no cost and with almost no restrictionswhatsoever you may copy it give it away or reuse it under the termsof the project gutenberg license included with t'"
      ]
     },
     "execution_count": 28,
     "metadata": {},
     "output_type": "execute_result"
    }
   ],
   "source": [
    "clean_text(txt)[:300]"
   ]
  },
  {
   "cell_type": "markdown",
   "id": "5e96c8a2-f138-4edf-9ef6-3649942bc130",
   "metadata": {},
   "source": [
    "### Tokenize Text\n",
    "* turns a string into a list"
   ]
  },
  {
   "cell_type": "code",
   "execution_count": 30,
   "id": "6f86f97d-2930-4b34-b172-0fcd69216ea5",
   "metadata": {},
   "outputs": [
    {
     "data": {
      "text/plain": [
       "['The', 'Project', 'Gutenberg', 'eBook', 'of', 'The', 'Raven', '', '', '']"
      ]
     },
     "execution_count": 30,
     "metadata": {},
     "output_type": "execute_result"
    }
   ],
   "source": [
    "tokenizer(txt)[:10]"
   ]
  },
  {
   "cell_type": "code",
   "execution_count": 31,
   "id": "7d99eae3-7467-4c5f-b0c1-7f770f79691d",
   "metadata": {},
   "outputs": [
    {
     "data": {
      "text/plain": [
       "['the', 'project', 'gutenberg', 'ebook', 'of', 'the', 'raven', '', '', '']"
      ]
     },
     "execution_count": 31,
     "metadata": {},
     "output_type": "execute_result"
    }
   ],
   "source": [
    "tokenizer(clean_text(txt))[:10]"
   ]
  },
  {
   "cell_type": "markdown",
   "id": "caaed59c-48ba-48c9-a3f5-c5da8b4ffcba",
   "metadata": {},
   "source": [
    "### Count Text\n",
    "* will count txt and to do that it requires the text be lowercase and tokenized.\n",
    "* will return whitespace as a valid key"
   ]
  },
  {
   "cell_type": "code",
   "execution_count": 48,
   "id": "51f15acd-a321-4b9e-9a01-3c3975a5b854",
   "metadata": {},
   "outputs": [
    {
     "data": {
      "text/plain": [
       "{'the': 640,\n",
       " 'project': 66,\n",
       " 'gutenberg': 21,\n",
       " 'ebook': 12,\n",
       " 'of': 379,\n",
       " 'raven': 36,\n",
       " '': 2844,\n",
       " 'this': 79,\n",
       " 'is': 99,\n",
       " 'for': 68,\n",
       " 'use': 13,\n",
       " 'anyone': 4,\n",
       " 'anywhere': 2,\n",
       " 'in': 153,\n",
       " 'united': 11,\n",
       " 'states': 13,\n",
       " 'andmost': 1,\n",
       " 'other': 22,\n",
       " 'parts': 3,\n",
       " 'world': 5}"
      ]
     },
     "execution_count": 48,
     "metadata": {},
     "output_type": "execute_result"
    }
   ],
   "source": [
    "# print out is too much so list dict to show head\n",
    "dict(list(count_words(txt).items())[:20])"
   ]
  },
  {
   "cell_type": "code",
   "execution_count": null,
   "id": "b8df5b82-2be7-4151-a606-8a027d3d7bd7",
   "metadata": {},
   "outputs": [],
   "source": [
    "~rah5ff_DS5111su24_lab_01/works/testing_texts/The_Raven_17192.txt\""
   ]
  },
  {
   "cell_type": "code",
   "execution_count": 49,
   "id": "366616ba-0bd2-412d-8cd1-3222f7c67f33",
   "metadata": {},
   "outputs": [
    {
     "ename": "NameError",
     "evalue": "name '__file__' is not defined",
     "output_type": "error",
     "traceback": [
      "\u001b[0;31m---------------------------------------------------------------------------\u001b[0m",
      "\u001b[0;31mNameError\u001b[0m                                 Traceback (most recent call last)",
      "Cell \u001b[0;32mIn[49], line 1\u001b[0m\n\u001b[0;32m----> 1\u001b[0m my_path \u001b[38;5;241m=\u001b[39m os\u001b[38;5;241m.\u001b[39mpath\u001b[38;5;241m.\u001b[39mabspath(os\u001b[38;5;241m.\u001b[39mpath\u001b[38;5;241m.\u001b[39mdirname(\u001b[38;5;18;43m__file__\u001b[39;49m))\n\u001b[1;32m      2\u001b[0m my_path\n",
      "\u001b[0;31mNameError\u001b[0m: name '__file__' is not defined"
     ]
    }
   ],
   "source": [
    "my_path = os.path.abspath(os.path.dirname(__file__))\n",
    "my_path"
   ]
  }
 ],
 "metadata": {
  "kernelspec": {
   "display_name": "Python 3 (ipykernel)",
   "language": "python",
   "name": "python3"
  },
  "language_info": {
   "codemirror_mode": {
    "name": "ipython",
    "version": 3
   },
   "file_extension": ".py",
   "mimetype": "text/x-python",
   "name": "python",
   "nbconvert_exporter": "python",
   "pygments_lexer": "ipython3",
   "version": "3.11.8"
  }
 },
 "nbformat": 4,
 "nbformat_minor": 5
}
