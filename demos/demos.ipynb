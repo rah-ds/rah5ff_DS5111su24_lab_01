{
 "cells": [
  {
   "cell_type": "markdown",
   "id": "39306fed-86e9-47a1-bd8c-b0524ec35ff1",
   "metadata": {},
   "source": [
    "## Objective\n",
    "***\n",
    "This notebook will show some of the functionality of the tokenizer library."
   ]
  },
  {
   "cell_type": "code",
   "execution_count": 1,
   "id": "2455be9c-82d3-468e-98d3-85790d7c95e6",
   "metadata": {},
   "outputs": [],
   "source": [
    "from tokenizer import clean_text, tokenizer, count_words\n"
   ]
  },
  {
   "cell_type": "code",
   "execution_count": 2,
   "id": "c42824e9-6900-4a91-9c98-077dc557c5e8",
   "metadata": {},
   "outputs": [
    {
     "name": "stdout",
     "output_type": "stream",
     "text": [
      "﻿The Project Gutenberg eBook of The Raven\n",
      "    \n",
      "This ebook is for the use of anyone anywhere in the United States and\n",
      "most other parts of the world at no cost and with almost no restrictions\n",
      "whatsoever. You may copy it, give it away or re-use it under the terms\n",
      "of the Project Gutenberg License included with this ebook or online\n",
      "at www.gutenberg.org. If you are not located in the United States,\n",
      "you will have to check the laws of the country where you are located\n",
      "before using this eBook.\n",
      "\n"
     ]
    }
   ],
   "source": [
    "!head ../data/raw/The_Raven_17192.txt"
   ]
  },
  {
   "cell_type": "code",
   "execution_count": 3,
   "id": "94ae5025-fcc2-4a08-8780-470c0d971ed5",
   "metadata": {},
   "outputs": [],
   "source": [
    "# helper function - makes the books into strings\n",
    "def converts_book_to_string(book_path: str) -> str:\n",
    "    from pathlib import Path\n",
    "    \"\"\"takes a project Gutenberg book and converts the book to a string.\n",
    "\n",
    "    takes out new lines and (Byte order Mark BOM)\n",
    "    \"\"\"\n",
    "    txt = Path(book_path).read_text()\n",
    "\n",
    "    txt = txt.replace('\\n', '')\n",
    "    txt = txt.replace('\\ufeff', '')\n",
    "\n",
    "    return txt\n"
   ]
  },
  {
   "cell_type": "code",
   "execution_count": 4,
   "id": "7697df74-0b3f-4d75-986e-914685068ffd",
   "metadata": {},
   "outputs": [
    {
     "data": {
      "text/plain": [
       "'The Project Gutenberg eBook of The Raven    This ebook is for the use of anyone anywhere in the United States andmost other parts of the world at no cost and with almost no restrictionswhatsoever. You may copy it, give it away or re-use it under the termsof the Project Gutenberg License included with this ebook or onlineat www.gutenberg.org. If you are not located in the United States,you will have to check the laws of the country where you are locatedbefore using this eBook.Title: The RavenAuth'"
      ]
     },
     "execution_count": 4,
     "metadata": {},
     "output_type": "execute_result"
    }
   ],
   "source": [
    "# remove newline and (Byte order Mark BOM) -- not valid words\n",
    "sample_text = converts_book_to_string(\"../data/raw/The_Raven_17192.txt\")\n",
    "sample_text[:500]"
   ]
  },
  {
   "cell_type": "markdown",
   "id": "7628adb2-14d0-4dbe-9378-87400056a03f",
   "metadata": {},
   "source": [
    "### Clean Text\n",
    "* lowers text\n",
    "* takes out punctuation"
   ]
  },
  {
   "cell_type": "code",
   "execution_count": 5,
   "id": "3a3c2ea0-8d27-48e5-9463-a224895ce91a",
   "metadata": {},
   "outputs": [
    {
     "data": {
      "text/plain": [
       "'the project gutenberg ebook of the raven    this ebook is for the use of anyone anywhere in the united states andmost other parts of the world at no cost and with almost no restrictionswhatsoever you may copy it give it away or reuse it under the termsof the project gutenberg license included with t'"
      ]
     },
     "execution_count": 5,
     "metadata": {},
     "output_type": "execute_result"
    }
   ],
   "source": [
    "clean_text(sample_text)[:300]"
   ]
  },
  {
   "cell_type": "markdown",
   "id": "5e96c8a2-f138-4edf-9ef6-3649942bc130",
   "metadata": {},
   "source": [
    "### Tokenize Text\n",
    "* turns a string into a list"
   ]
  },
  {
   "cell_type": "code",
   "execution_count": 6,
   "id": "6f86f97d-2930-4b34-b172-0fcd69216ea5",
   "metadata": {},
   "outputs": [
    {
     "data": {
      "text/plain": [
       "['The', 'Project', 'Gutenberg', 'eBook', 'of', 'The', 'Raven', '', '', '']"
      ]
     },
     "execution_count": 6,
     "metadata": {},
     "output_type": "execute_result"
    }
   ],
   "source": [
    "tokenizer(sample_text)[:10]"
   ]
  },
  {
   "cell_type": "code",
   "execution_count": 7,
   "id": "7d99eae3-7467-4c5f-b0c1-7f770f79691d",
   "metadata": {},
   "outputs": [
    {
     "data": {
      "text/plain": [
       "['the', 'project', 'gutenberg', 'ebook', 'of', 'the', 'raven', '', '', '']"
      ]
     },
     "execution_count": 7,
     "metadata": {},
     "output_type": "execute_result"
    }
   ],
   "source": [
    "tokenizer(clean_text(sample_text))[:10]"
   ]
  },
  {
   "cell_type": "markdown",
   "id": "caaed59c-48ba-48c9-a3f5-c5da8b4ffcba",
   "metadata": {},
   "source": [
    "### Count Text\n",
    "* will count sample_text and to do that it requires the text be lowercase and tokenized.\n",
    "* will return whitespace as a valid key"
   ]
  },
  {
   "cell_type": "code",
   "execution_count": 8,
   "id": "51f15acd-a321-4b9e-9a01-3c3975a5b854",
   "metadata": {},
   "outputs": [
    {
     "data": {
      "text/plain": [
       "{'the': 640,\n",
       " 'project': 66,\n",
       " 'gutenberg': 21,\n",
       " 'ebook': 12,\n",
       " 'of': 379,\n",
       " 'raven': 36,\n",
       " '': 2844,\n",
       " 'this': 79,\n",
       " 'is': 99,\n",
       " 'for': 68,\n",
       " 'use': 13,\n",
       " 'anyone': 4,\n",
       " 'anywhere': 2,\n",
       " 'in': 153,\n",
       " 'united': 11,\n",
       " 'states': 13,\n",
       " 'andmost': 1,\n",
       " 'other': 22,\n",
       " 'parts': 3,\n",
       " 'world': 5}"
      ]
     },
     "execution_count": 8,
     "metadata": {},
     "output_type": "execute_result"
    }
   ],
   "source": [
    "# print out is too much so list dict to show head\n",
    "dict(list(count_words(sample_text).items())[:20])"
   ]
  }
 ],
 "metadata": {
  "kernelspec": {
   "display_name": "Python 3 (ipykernel)",
   "language": "python",
   "name": "python3"
  },
  "language_info": {
   "codemirror_mode": {
    "name": "ipython",
    "version": 3
   },
   "file_extension": ".py",
   "mimetype": "text/x-python",
   "name": "python",
   "nbconvert_exporter": "python",
   "pygments_lexer": "ipython3",
   "version": "3.11.8"
  }
 },
 "nbformat": 4,
 "nbformat_minor": 5
}
